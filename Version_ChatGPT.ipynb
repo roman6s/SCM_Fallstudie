{
  "nbformat": 4,
  "nbformat_minor": 0,
  "metadata": {
    "colab": {
      "provenance": [],
      "include_colab_link": true
    },
    "kernelspec": {
      "name": "python3",
      "display_name": "Python 3"
    },
    "language_info": {
      "name": "python"
    }
  },
  "cells": [
    {
      "cell_type": "markdown",
      "metadata": {
        "id": "view-in-github",
        "colab_type": "text"
      },
      "source": [
        "<a href=\"https://colab.research.google.com/github/roman6s/SCM_Fallstudie/blob/main/Version_ChatGPT.ipynb\" target=\"_parent\"><img src=\"https://colab.research.google.com/assets/colab-badge.svg\" alt=\"Open In Colab\"/></a>"
      ]
    },
    {
      "cell_type": "markdown",
      "metadata": {
        "id": "b2fc884d"
      },
      "source": [
        "# Fallstudie BESS"
      ]
    },
    {
      "cell_type": "code",
      "execution_count": 15,
      "metadata": {
        "id": "cdb29647",
        "colab": {
          "base_uri": "https://localhost:8080/"
        },
        "outputId": "bcbaeeb1-85cc-4d9b-fe7b-db48e5657190"
      },
      "outputs": [
        {
          "output_type": "stream",
          "name": "stdout",
          "text": [
            "fatal: destination path 'WS24_Supply_Chain_Optimierung' already exists and is not an empty directory.\n"
          ]
        }
      ],
      "source": [
        "! git clone https://github.com/AlexKressner/WS24_Supply_Chain_Optimierung"
      ]
    },
    {
      "cell_type": "code",
      "execution_count": 16,
      "metadata": {
        "id": "d8c0c7cc"
      },
      "outputs": [],
      "source": [
        "! pip install -q pyscipopt"
      ]
    },
    {
      "cell_type": "code",
      "source": [
        "import pandas as pd\n",
        "from pyscipopt import Model, quicksum"
      ],
      "metadata": {
        "id": "7MzXHG4B86Qx"
      },
      "execution_count": 17,
      "outputs": []
    },
    {
      "cell_type": "markdown",
      "source": [
        "## Optimierungsmodell"
      ],
      "metadata": {
        "id": "Q8f5UhN-A8UV"
      }
    },
    {
      "cell_type": "code",
      "source": [
        "scip = Model()"
      ],
      "metadata": {
        "id": "gIH-zc22A9tA"
      },
      "execution_count": 18,
      "outputs": []
    },
    {
      "cell_type": "markdown",
      "source": [
        "## Daten laden"
      ],
      "metadata": {
        "id": "3Ci5xdy04596"
      }
    },
    {
      "cell_type": "code",
      "source": [
        "folder = \"WS24_Supply_Chain_Optimierung/Daten/Fallstudie\""
      ],
      "metadata": {
        "id": "umWfTGv849zx"
      },
      "execution_count": 19,
      "outputs": []
    },
    {
      "cell_type": "code",
      "source": [
        "# Preisprogonose\n",
        "preisprognose = pd.read_excel(f\"{folder}/Preisprognosen.xlsx\")\n"
      ],
      "metadata": {
        "id": "uF0YYNBI8ILm"
      },
      "execution_count": 20,
      "outputs": []
    },
    {
      "cell_type": "markdown",
      "source": [
        "CHAT"
      ],
      "metadata": {
        "id": "2VfmgRFvu4v9"
      }
    },
    {
      "cell_type": "code",
      "source": [
        "# Indexmenge für die 24 Stunden\n",
        "T = range(1, 25)\n",
        "\n",
        "# Parameter\n",
        "cap       = 40.0     # Nominelle Kapazität [MWh]\n",
        "DoD       = 0.80     # Depth of Discharge\n",
        "SOC_min   = cap*(1 - DoD)   # 8 MWh\n",
        "SOC_max   = cap             # 40 MWh\n",
        "c_rate    = 0.5             # C-Rate\n",
        "eta_round = 0.95            # Round-trip efficiency\n",
        "eta_wr    = 0.985           # Wirkungsgrad Wechselrichter\n",
        "cyclecost = 1500.0          # Fixe Kosten pro Zyklus\n",
        "maxCycles = 2.0\n",
        "p_Markt = preisprognose.groupby(\"Stunde\")[\"Strompreis\"].mean().tolist()\n",
        "\n",
        "# Damit wir Lade- und Entladeverluste trennen können,\n",
        "# nehmen wir z.B. sqrt(eta_round) für jede Richtung:\n",
        "eta_charge    = (eta_round)**0.5 * eta_wr\n",
        "eta_discharge = (eta_round)**0.5 * eta_wr\n",
        "\n",
        "# Entscheidungsvariablen\n",
        "# State of Charge je Stunde\n",
        "SOC = {t: scip.addVar(\n",
        "             vtype=\"CONTINUOUS\",\n",
        "             lb=SOC_min,\n",
        "             ub=SOC_max,\n",
        "             name=f\"SOC_{t}\"\n",
        "          )\n",
        "       for t in T}\n",
        "\n",
        "# Lade- und Entladestrom je Stunde (jeweils in MWh, nicht negativ)\n",
        "charge = {t: scip.addVar(\n",
        "               vtype=\"CONTINUOUS\",\n",
        "               lb=0,\n",
        "               ub=c_rate * cap,\n",
        "               name=f\"charge_{t}\"\n",
        "            )\n",
        "          for t in T}\n",
        "\n",
        "discharge = {t: scip.addVar(\n",
        "                  vtype=\"CONTINUOUS\",\n",
        "                  lb=0,\n",
        "                  ub=c_rate * cap,\n",
        "                  name=f\"discharge_{t}\"\n",
        "               )\n",
        "             for t in T}\n",
        "\n",
        "# Zählvariable für \"verbrauchte\" Zyklen\n",
        "Z = scip.addVar(\n",
        "      vtype=\"CONTINUOUS\",\n",
        "      lb=0,\n",
        "      ub=maxCycles,\n",
        "      name=\"cycles_used\"\n",
        "    )\n",
        "\n",
        "# Nebenbedingungen\n",
        "\n",
        "# (1) Anfangs- und End-SOC = 50% Kapazität\n",
        "scip.addCons(SOC[1] == 0.5 * cap)\n",
        "scip.addCons(SOC[24] == 0.5 * cap)\n",
        "\n",
        "# (2) Ladezustandsdynamik\n",
        "for t in T:\n",
        "    if t == 1:\n",
        "        continue\n",
        "    # SOC[t] = SOC[t-1] + (eta_charge)*charge[t-1] - (1/eta_discharge)*discharge[t-1]\n",
        "    scip.addCons(\n",
        "        SOC[t]\n",
        "        == SOC[t-1]\n",
        "           + eta_charge     * charge[t-1]\n",
        "           - (1/eta_discharge)* discharge[t-1]\n",
        "    )\n",
        "\n",
        "# (3) Max. 2 Zyklen über den Tag. Wir modellieren:\n",
        "#     Ein \"Vollzyklus\" = 2*(cap * DoD). Also berechnen wir den gesamten \"Throughput\"\n",
        "#     und setzen Z >= Throughput / [2 * (cap*DoD)].\n",
        "throughput = quicksum(charge[t] + discharge[t] for t in T)\n",
        "scip.addCons(\n",
        "    Z >= throughput / (2.0 * cap * DoD)\n",
        ")\n",
        "# Z soll außerdem <= 2 sein.\n",
        "scip.addCons(\n",
        "    Z <= maxCycles\n",
        ")\n",
        "\n",
        "# (4) Ziel: Erlöse - Kosten pro Zyklus\n",
        "#    Erlöse: p_Markt[t-1]*discharge[t]\n",
        "#    Kosten: p_Markt[t-1]*charge[t]\n",
        "#    Fixe Zykluskosten: cyclecost * Z\n",
        "objective = quicksum(\n",
        "    p_Markt[t-1] * discharge[t] - p_Markt[t-1] * charge[t]\n",
        "    for t in T\n",
        ") - cyclecost * Z\n",
        "\n",
        "scip.setObjective(objective, sense=\"maximize\")\n",
        "\n",
        "# Modell lösen\n",
        "scip.optimize()\n",
        "\n",
        "# Ausgabe der Ergebnisse\n",
        "print(f\"Optimaler Zielfunktionswert: {scip.getObjVal():.2f} €\")\n",
        "\n",
        "print(\"\\nStundenweise Lösung:\")\n",
        "for t in T:\n",
        "    soc_val     = scip.getVal(SOC[t])\n",
        "    chg_val     = scip.getVal(charge[t])\n",
        "    dis_val     = scip.getVal(discharge[t])\n",
        "    print(f\"  t={t:2d}: \"\n",
        "          f\"SOC={soc_val:5.2f}  \"\n",
        "          f\"charge={chg_val:5.2f}  \"\n",
        "          f\"discharge={dis_val:5.2f}  \"\n",
        "          f\"Preis={p_Markt[t-1]:6.2f}\")\n",
        "\n",
        "print(f\"\\nEffektiv genutzte Zyklen: {scip.getVal(Z):.2f}\")"
      ],
      "metadata": {
        "colab": {
          "base_uri": "https://localhost:8080/"
        },
        "id": "IWHPA2EAu7AH",
        "outputId": "63e52ae1-4dba-4559-884f-f97f446aca4e"
      },
      "execution_count": 21,
      "outputs": [
        {
          "output_type": "stream",
          "name": "stdout",
          "text": [
            "Optimaler Zielfunktionswert: 3120.51 €\n",
            "\n",
            "Stundenweise Lösung:\n",
            "  t= 1: SOC=20.00  charge= 0.00  discharge= 0.00  Preis= 81.52\n",
            "  t= 2: SOC=20.00  charge= 0.00  discharge= 0.00  Preis= 72.24\n",
            "  t= 3: SOC=20.00  charge= 0.00  discharge= 0.00  Preis= 68.16\n",
            "  t= 4: SOC=20.00  charge= 0.00  discharge= 0.00  Preis= 66.64\n",
            "  t= 5: SOC=20.00  charge= 0.00  discharge= 0.00  Preis= 66.80\n",
            "  t= 6: SOC=20.00  charge= 0.00  discharge= 0.00  Preis= 71.04\n",
            "  t= 7: SOC=20.00  charge= 0.00  discharge= 0.00  Preis= 88.56\n",
            "  t= 8: SOC=20.00  charge= 0.00  discharge=11.52  Preis= 92.68\n",
            "  t= 9: SOC= 8.00  charge= 0.00  discharge= 0.00  Preis= 80.92\n",
            "  t=10: SOC= 8.00  charge= 0.00  discharge= 0.00  Preis= 61.08\n",
            "  t=11: SOC= 8.00  charge= 0.00  discharge= 0.00  Preis= 43.08\n",
            "  t=12: SOC= 8.00  charge= 0.00  discharge= 0.00  Preis= 30.88\n",
            "  t=13: SOC= 8.00  charge= 0.00  discharge= 0.00  Preis= 22.44\n",
            "  t=14: SOC= 8.00  charge=13.33  discharge= 0.00  Preis= 15.96\n",
            "  t=15: SOC=20.80  charge=20.00  discharge= 0.00  Preis= 12.52\n",
            "  t=16: SOC=40.00  charge= 0.00  discharge= 0.00  Preis= 18.44\n",
            "  t=17: SOC=40.00  charge= 0.00  discharge= 0.00  Preis= 34.88\n",
            "  t=18: SOC=40.00  charge= 0.00  discharge= 0.00  Preis= 56.56\n",
            "  t=19: SOC=40.00  charge= 0.00  discharge= 0.00  Preis= 78.44\n",
            "  t=20: SOC=40.00  charge= 0.00  discharge= 0.00  Preis=105.60\n",
            "  t=21: SOC=40.00  charge= 0.00  discharge=19.20  Preis=144.80\n",
            "  t=22: SOC=20.00  charge= 0.00  discharge= 0.00  Preis=125.12\n",
            "  t=23: SOC=20.00  charge= 0.00  discharge= 0.00  Preis=101.36\n",
            "  t=24: SOC=20.00  charge= 0.00  discharge=20.00  Preis= 85.28\n",
            "\n",
            "Effektiv genutzte Zyklen: 1.31\n"
          ]
        }
      ]
    }
  ]
}