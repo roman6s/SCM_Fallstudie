{
  "nbformat": 4,
  "nbformat_minor": 0,
  "metadata": {
    "colab": {
      "provenance": [],
      "include_colab_link": true
    },
    "kernelspec": {
      "name": "python3",
      "display_name": "Python 3"
    },
    "language_info": {
      "name": "python"
    }
  },
  "cells": [
    {
      "cell_type": "markdown",
      "metadata": {
        "id": "view-in-github",
        "colab_type": "text"
      },
      "source": [
        "<a href=\"https://colab.research.google.com/github/roman6s/SCM_Fallstudie/blob/main/Version_2.ipynb\" target=\"_parent\"><img src=\"https://colab.research.google.com/assets/colab-badge.svg\" alt=\"Open In Colab\"/></a>"
      ]
    },
    {
      "cell_type": "markdown",
      "metadata": {
        "id": "b2fc884d"
      },
      "source": [
        "# Fallstudie BESS"
      ]
    },
    {
      "cell_type": "code",
      "execution_count": 117,
      "metadata": {
        "id": "cdb29647",
        "colab": {
          "base_uri": "https://localhost:8080/"
        },
        "outputId": "f8c75bd4-c7ec-4592-f4fa-9667fe88b887"
      },
      "outputs": [
        {
          "output_type": "stream",
          "name": "stdout",
          "text": [
            "fatal: destination path 'WS24_Supply_Chain_Optimierung' already exists and is not an empty directory.\n"
          ]
        }
      ],
      "source": [
        "! git clone https://github.com/AlexKressner/WS24_Supply_Chain_Optimierung"
      ]
    },
    {
      "cell_type": "code",
      "execution_count": 118,
      "metadata": {
        "id": "d8c0c7cc"
      },
      "outputs": [],
      "source": [
        "! pip install -q pyscipopt"
      ]
    },
    {
      "cell_type": "code",
      "source": [
        "import pandas as pd\n",
        "from pyscipopt import Model, quicksum"
      ],
      "metadata": {
        "id": "7MzXHG4B86Qx"
      },
      "execution_count": 119,
      "outputs": []
    },
    {
      "cell_type": "markdown",
      "source": [
        "## Optimierungsmodell"
      ],
      "metadata": {
        "id": "Q8f5UhN-A8UV"
      }
    },
    {
      "cell_type": "code",
      "source": [
        "scip = Model()"
      ],
      "metadata": {
        "id": "gIH-zc22A9tA"
      },
      "execution_count": 120,
      "outputs": []
    },
    {
      "cell_type": "markdown",
      "source": [
        "## Daten laden"
      ],
      "metadata": {
        "id": "3Ci5xdy04596"
      }
    },
    {
      "cell_type": "code",
      "source": [
        "folder = \"WS24_Supply_Chain_Optimierung/Daten/Fallstudie\""
      ],
      "metadata": {
        "id": "umWfTGv849zx"
      },
      "execution_count": 121,
      "outputs": []
    },
    {
      "cell_type": "code",
      "source": [
        "# Preisprogonose\n",
        "preisprognose = pd.read_excel(f\"{folder}/Preisprognosen.xlsx\")\n"
      ],
      "metadata": {
        "id": "uF0YYNBI8ILm"
      },
      "execution_count": 122,
      "outputs": []
    },
    {
      "cell_type": "markdown",
      "metadata": {
        "id": "798a67ee"
      },
      "source": [
        "## Indexmengen"
      ]
    },
    {
      "cell_type": "code",
      "source": [
        "# Menge der Stunden des Folgetages\n",
        "T = [str(i) for i in range(1, 25)]"
      ],
      "metadata": {
        "id": "goOwHnFj_ofs"
      },
      "execution_count": 123,
      "outputs": []
    },
    {
      "cell_type": "markdown",
      "metadata": {
        "id": "b99b4ca0"
      },
      "source": [
        "## Parameter"
      ]
    },
    {
      "cell_type": "code",
      "source": [
        "# Nominelle Speicherkapazität in MWh\n",
        "cap = 40"
      ],
      "metadata": {
        "id": "LnaXtWEACWoU"
      },
      "execution_count": 124,
      "outputs": []
    },
    {
      "cell_type": "code",
      "source": [
        "# Depth of Discharge\n",
        "DoD = 0.8"
      ],
      "metadata": {
        "id": "OR14Pds3qvLd"
      },
      "execution_count": 125,
      "outputs": []
    },
    {
      "cell_type": "code",
      "source": [
        "# Minimaler Stage of Charge in MWh\n",
        "SOCmin = 8"
      ],
      "metadata": {
        "id": "XhyLLiF7qwcv"
      },
      "execution_count": 126,
      "outputs": []
    },
    {
      "cell_type": "code",
      "source": [
        "# Maximaler Stage of Charge in MWh\n",
        "SOCmax = 40"
      ],
      "metadata": {
        "id": "x0yQQmR6qyX-"
      },
      "execution_count": 127,
      "outputs": []
    },
    {
      "cell_type": "code",
      "source": [
        "# State of Charge\n",
        "SOC = {t: scip.addVar(vtype=\"CONTINUOUS\", lb=SOCmin, ub=SOCmax, name=f\"SOC_{t}\") for t in T}"
      ],
      "metadata": {
        "id": "aP3aQXaTGnku"
      },
      "execution_count": 128,
      "outputs": []
    },
    {
      "cell_type": "code",
      "source": [
        "# C-Rate\n",
        "c = 0.5"
      ],
      "metadata": {
        "id": "h0KDnl0Lqzid"
      },
      "execution_count": 129,
      "outputs": []
    },
    {
      "cell_type": "code",
      "source": [
        "# Round Trip Efficiency\n",
        "eta = 0.95"
      ],
      "metadata": {
        "id": "7Zemx5Y8q0j9"
      },
      "execution_count": 130,
      "outputs": []
    },
    {
      "cell_type": "code",
      "source": [
        "# Wirkungsgrad\n",
        "mu = 0.985"
      ],
      "metadata": {
        "id": "S4raZ0exq1_n"
      },
      "execution_count": 131,
      "outputs": []
    },
    {
      "cell_type": "code",
      "source": [
        "# Zyklus\n",
        "z = {t: scip.addVar(vtype=\"CONTINUOUS\", lb=0, ub=2, name=f\"z_{t}\") for t in T}"
      ],
      "metadata": {
        "id": "4FumHreoq4Tc"
      },
      "execution_count": 132,
      "outputs": []
    },
    {
      "cell_type": "code",
      "source": [
        "#\n",
        "P_Markt = preisprognose.groupby(\"Stunde\")[\"Strompreis\"].mean().tolist()"
      ],
      "metadata": {
        "id": "a1VYgBSeyCGS"
      },
      "execution_count": 133,
      "outputs": []
    },
    {
      "cell_type": "code",
      "source": [
        "# MinimalPreis Stunde t in €/MWh\n",
        "Pmin = -500"
      ],
      "metadata": {
        "id": "n7W2Ao9Aq7FH"
      },
      "execution_count": 134,
      "outputs": []
    },
    {
      "cell_type": "code",
      "source": [
        "# Maximalpreis zur Stunde t in €/MWh\n",
        "Pmax = 4000"
      ],
      "metadata": {
        "id": "5BuokiYOq8UX"
      },
      "execution_count": 135,
      "outputs": []
    },
    {
      "cell_type": "code",
      "source": [
        "# Zykluskosten\n",
        "cost = 1500"
      ],
      "metadata": {
        "id": "FIB-RhL_q9kW"
      },
      "execution_count": 136,
      "outputs": []
    },
    {
      "cell_type": "markdown",
      "metadata": {
        "id": "d1f9cf18"
      },
      "source": [
        "## Entscheidungsvariablen"
      ]
    },
    {
      "cell_type": "code",
      "source": [
        "# Entscheidung x\n",
        "X={}\n",
        "for t in T:\n",
        "  X[t] = scip.addVar(vtype=\"CONTINUOUS\", lb=-(c * cap), ub=c * cap, name=f\"X_{t}\") # bounds anpassen mit Wirkungsgrad\n"
      ],
      "metadata": {
        "id": "lbpazTPleD6g"
      },
      "execution_count": 137,
      "outputs": []
    },
    {
      "cell_type": "markdown",
      "metadata": {
        "id": "c9eede10"
      },
      "source": [
        "## Zielfunktion"
      ]
    },
    {
      "cell_type": "markdown",
      "source": [
        "Max $ZF = \\sum_{t \\in T} (P_h \\cdot x_h) - {\\text{cost}} \\cdot \\text{z}$\n"
      ],
      "metadata": {
        "id": "lT4f5UwcyzKS"
      }
    },
    {
      "cell_type": "code",
      "execution_count": 138,
      "metadata": {
        "id": "954d02bf"
      },
      "outputs": [],
      "source": [
        "# Maximiere\n",
        "scip.setObjective(\n",
        "    quicksum(P_Markt[int(t) - 1] * X[t] for t in T) - cost * quicksum(z[t] for t in T),\n",
        "    sense=\"maximize\"\n",
        ")"
      ]
    },
    {
      "cell_type": "markdown",
      "source": [],
      "metadata": {
        "id": "50gqFDy_EHz6"
      }
    },
    {
      "cell_type": "markdown",
      "metadata": {
        "id": "a8534816"
      },
      "source": [
        "## Nebenbedingungen"
      ]
    },
    {
      "cell_type": "markdown",
      "source": [
        "**(1) Ladezustandsdynamik**\n",
        "\n",
        "Formel\n",
        "\n",
        "$∀ t \\in T$"
      ],
      "metadata": {
        "id": "El09g3Zwh1pt"
      }
    },
    {
      "cell_type": "code",
      "source": [
        "for i, t in enumerate(T):\n",
        "  if t == \"1\":\n",
        "    scip.addCons(SOC[t] == SOCmax * c)\n",
        "  else:\n",
        "    previous_t = T[i - 1]  # Get the previous element from T\n",
        "    scip.addCons(SOC[t] == SOC[previous_t] + eta * mu * X[t] - (1 / (eta * mu)) * X[t])"
      ],
      "metadata": {
        "id": "0q4H4wEGh3zw"
      },
      "execution_count": 139,
      "outputs": []
    },
    {
      "cell_type": "markdown",
      "source": [
        "**(2) Kapazitätsbeschränkung**\n",
        "\n",
        "Formel\n",
        "\n",
        "$∀ t \\in T$"
      ],
      "metadata": {
        "id": "V-oFih1rKy6R"
      }
    },
    {
      "cell_type": "code",
      "source": [
        "for t in T:\n",
        "    # Nebenbedingung 1: Durch Kauf darf nicht mehr geladen werden, als gespeichert werden kann\n",
        "    scip.addCons(SOC[t] - X[t] <= SOCmax)\n",
        "\n",
        "    # Nebenbedingung 2: Durch Verkauf darf die SOC nicht unter SOCmin sinken\n",
        "    scip.addCons(SOC[t] + X[t] >= SOCmin)"
      ],
      "metadata": {
        "id": "4LPsz3-QKzpq"
      },
      "execution_count": 148,
      "outputs": []
    },
    {
      "cell_type": "markdown",
      "source": [
        "**(3) Speicherstand zu Beginn/Ende des Tages**\n",
        "\n",
        "Formel\n",
        "\n",
        "$∀ t \\in T$"
      ],
      "metadata": {
        "id": "XKdlbeFeMfsz"
      }
    },
    {
      "cell_type": "code",
      "source": [
        "# Nebenbedingung für SOC['1']\n",
        "scip.addCons(SOC['1'] == 0.5 * cap)\n",
        "\n",
        "# Nebenbedingung für SOC['24']\n",
        "scip.addCons(SOC['24'] == 0.5 * cap)"
      ],
      "metadata": {
        "colab": {
          "base_uri": "https://localhost:8080/"
        },
        "id": "mEMO_sUtM4th",
        "outputId": "18c93ae5-de06-420f-9057-638deb035b0b"
      },
      "execution_count": 149,
      "outputs": [
        {
          "output_type": "execute_result",
          "data": {
            "text/plain": [
              "c74"
            ]
          },
          "metadata": {},
          "execution_count": 149
        }
      ]
    },
    {
      "cell_type": "markdown",
      "source": [
        "**(4) Zyklenbegrenzung**\n",
        "\n",
        "Formel\n",
        "\n",
        "$∀ t \\in T$"
      ],
      "metadata": {
        "id": "F1WPw6UxPrt2"
      }
    },
    {
      "cell_type": "code",
      "source": [],
      "metadata": {
        "id": "nCIBgamuPxEI"
      },
      "execution_count": null,
      "outputs": []
    },
    {
      "cell_type": "markdown",
      "metadata": {
        "id": "9a459618"
      },
      "source": [
        "## Berechnung Lösung"
      ]
    },
    {
      "cell_type": "code",
      "source": [
        "scip.optimize()\n",
        "print(scip.getStatus())"
      ],
      "metadata": {
        "id": "tf9LRvMDCprP"
      },
      "execution_count": null,
      "outputs": []
    }
  ]
}