{
  "nbformat": 4,
  "nbformat_minor": 0,
  "metadata": {
    "colab": {
      "provenance": [],
      "include_colab_link": true
    },
    "kernelspec": {
      "name": "python3",
      "display_name": "Python 3"
    },
    "language_info": {
      "name": "python"
    }
  },
  "cells": [
    {
      "cell_type": "markdown",
      "metadata": {
        "id": "view-in-github",
        "colab_type": "text"
      },
      "source": [
        "<a href=\"https://colab.research.google.com/github/roman6s/SCM_Fallstudie/blob/main/Fallstudie_Version_1.ipynb\" target=\"_parent\"><img src=\"https://colab.research.google.com/assets/colab-badge.svg\" alt=\"Open In Colab\"/></a>"
      ]
    },
    {
      "cell_type": "markdown",
      "metadata": {
        "id": "b2fc884d"
      },
      "source": [
        "# Framework"
      ]
    },
    {
      "cell_type": "code",
      "execution_count": 15,
      "metadata": {
        "id": "cdb29647",
        "colab": {
          "base_uri": "https://localhost:8080/"
        },
        "outputId": "ee12ed65-0e8f-4c6c-ba0d-e2d9ded1e1a9"
      },
      "outputs": [
        {
          "output_type": "stream",
          "name": "stdout",
          "text": [
            "fatal: destination path 'WS24_Supply_Chain_Optimierung' already exists and is not an empty directory.\n"
          ]
        }
      ],
      "source": [
        "! git clone https://github.com/AlexKressner/WS24_Supply_Chain_Optimierung"
      ]
    },
    {
      "cell_type": "code",
      "execution_count": 16,
      "metadata": {
        "id": "d8c0c7cc",
        "colab": {
          "base_uri": "https://localhost:8080/"
        },
        "outputId": "9a4046a4-e6c2-43b7-9c5e-95d74d6c201b"
      },
      "outputs": [
        {
          "output_type": "stream",
          "name": "stdout",
          "text": [
            "\u001b[2K   \u001b[90m━━━━━━━━━━━━━━━━━━━━━━━━━━━━━━━━━━━━━━━━\u001b[0m \u001b[32m15.5/15.5 MB\u001b[0m \u001b[31m56.9 MB/s\u001b[0m eta \u001b[36m0:00:00\u001b[0m\n",
            "\u001b[?25h"
          ]
        }
      ],
      "source": [
        "! pip install -q pyscipopt"
      ]
    },
    {
      "cell_type": "code",
      "source": [
        "import pandas as pd\n",
        "from pyscipopt import Model, quicksum"
      ],
      "metadata": {
        "id": "7MzXHG4B86Qx"
      },
      "execution_count": 17,
      "outputs": []
    },
    {
      "cell_type": "markdown",
      "source": [
        "## Daten laden"
      ],
      "metadata": {
        "id": "3Ci5xdy04596"
      }
    },
    {
      "cell_type": "code",
      "source": [
        "folder = \"WS24_Supply_Chain_Optimierung/Daten/Fallstudie\""
      ],
      "metadata": {
        "id": "umWfTGv849zx"
      },
      "execution_count": 18,
      "outputs": []
    },
    {
      "cell_type": "code",
      "source": [
        "# Preisprogonose\n",
        "preisprognose = pd.read_excel(f\"{folder}/Preisprognosen.xlsx\")\n"
      ],
      "metadata": {
        "id": "uF0YYNBI8ILm"
      },
      "execution_count": 20,
      "outputs": []
    },
    {
      "cell_type": "markdown",
      "metadata": {
        "id": "798a67ee"
      },
      "source": [
        "## Indexmengen"
      ]
    },
    {
      "cell_type": "code",
      "source": [
        "# Menge der Stunden des Folgetages\n",
        "T = [str(i) for i in range(1, 25)]\n"
      ],
      "metadata": {
        "id": "goOwHnFj_ofs"
      },
      "execution_count": 21,
      "outputs": []
    },
    {
      "cell_type": "code",
      "source": [
        "# Entscheidung\n",
        "D = ['buy', 'sell']"
      ],
      "metadata": {
        "id": "BIKqvE6efcYA"
      },
      "execution_count": 22,
      "outputs": []
    },
    {
      "cell_type": "markdown",
      "source": [
        "## Parameter"
      ],
      "metadata": {
        "id": "e6pAiJ_RgDyo"
      }
    },
    {
      "cell_type": "code",
      "source": [
        "# Nominelle Speicherkapazität in MWh\n",
        "cap = 40"
      ],
      "metadata": {
        "id": "GSTr-x2vgDbN"
      },
      "execution_count": 23,
      "outputs": []
    },
    {
      "cell_type": "code",
      "source": [
        "# Depth of Discharge\n",
        "DoD = 0.8"
      ],
      "metadata": {
        "id": "5yNo0HbegCOv"
      },
      "execution_count": 24,
      "outputs": []
    },
    {
      "cell_type": "code",
      "source": [
        "# Minimaler Stage of Charge in MWh\n",
        "SOCmin = 8"
      ],
      "metadata": {
        "id": "X0rFBGv8guu1"
      },
      "execution_count": 25,
      "outputs": []
    },
    {
      "cell_type": "code",
      "source": [
        "# Maximaler Stage of Charge in MWh\n",
        "SOCmax = 40"
      ],
      "metadata": {
        "id": "fl12WUaWgur_"
      },
      "execution_count": 26,
      "outputs": []
    },
    {
      "cell_type": "code",
      "source": [
        "# C-Rate\n",
        "c = 0.5"
      ],
      "metadata": {
        "id": "dVjMUZjqgupt"
      },
      "execution_count": 27,
      "outputs": []
    },
    {
      "cell_type": "code",
      "source": [
        "# Round Trip Efficiency\n",
        "eta = 0.95"
      ],
      "metadata": {
        "id": "232H-054gum5"
      },
      "execution_count": 28,
      "outputs": []
    },
    {
      "cell_type": "code",
      "source": [
        "# Wirkungsgrad\n",
        "mue = 0.985"
      ],
      "metadata": {
        "id": "VfnHzKdggujp"
      },
      "execution_count": 29,
      "outputs": []
    },
    {
      "cell_type": "code",
      "source": [
        "# Zyklus\n",
        "z = {t: scip.addVar(vtype=\"CONTINUOUS\", lb=0, ub=2, name=f\"z_{t}\") for t in T}"
      ],
      "metadata": {
        "id": "vfiwQGequLdJ"
      },
      "execution_count": 48,
      "outputs": []
    },
    {
      "cell_type": "code",
      "source": [
        "# Anzahl der Vollzyklen\n",
        "Zmax = 2"
      ],
      "metadata": {
        "id": "HcJpennDgubo"
      },
      "execution_count": 41,
      "outputs": []
    },
    {
      "cell_type": "code",
      "source": [
        "# MinimalPreis mit Entscheidung d zur Stunde t in €/MWh\n",
        "Pmin = -500"
      ],
      "metadata": {
        "id": "ggLGt-P4oiM-"
      },
      "execution_count": 31,
      "outputs": []
    },
    {
      "cell_type": "code",
      "source": [
        "# Maximalpreis mit Entscheidung d zur Stunde t in €/MWh\n",
        "Pmax = 4000"
      ],
      "metadata": {
        "id": "QK_Kj0oxpyyG"
      },
      "execution_count": 32,
      "outputs": []
    },
    {
      "cell_type": "code",
      "source": [
        "# Zykluskosten\n",
        "cost = 1500"
      ],
      "metadata": {
        "id": "qymf623Spif3"
      },
      "execution_count": 33,
      "outputs": []
    },
    {
      "cell_type": "markdown",
      "source": [
        "## Optimierungsmodell"
      ],
      "metadata": {
        "id": "kZzuFUD8tRdA"
      }
    },
    {
      "cell_type": "code",
      "source": [
        "scip = Model()"
      ],
      "metadata": {
        "id": "b8zAw-w4tR6P"
      },
      "execution_count": 35,
      "outputs": []
    },
    {
      "cell_type": "markdown",
      "source": [
        "## Entscheidungsvariablen"
      ],
      "metadata": {
        "id": "1B2xJ5dEqUHX"
      }
    },
    {
      "cell_type": "code",
      "source": [
        "# Gebotene Menge in Stunde t für Entscheidung d\n",
        "X={}\n",
        "for d in D:\n",
        "  for t in T:\n",
        "    X[d,t] = scip.addVar(vtype=\"C\", name=f\"{d},{t}\")"
      ],
      "metadata": {
        "id": "i2eCoEcqqbll"
      },
      "execution_count": 36,
      "outputs": []
    },
    {
      "cell_type": "code",
      "source": [
        "# Gebotener Preis in Stunde t für Entscheidung d\n",
        "P={}\n",
        "for d in D:\n",
        "  for t in T:\n",
        "    P[d,t] = scip.addVar(vtype=\"C\", name=f\"{d},{t}\")"
      ],
      "metadata": {
        "id": "08DwZGjMqxob"
      },
      "execution_count": 37,
      "outputs": []
    },
    {
      "cell_type": "markdown",
      "source": [
        "## Zielfunktion"
      ],
      "metadata": {
        "id": "P5IU48birPNe"
      }
    },
    {
      "cell_type": "markdown",
      "source": [
        "\n",
        "Max $K = \\sum_{t \\in T} \\left( P_{t,\\text{sell}} * X_{t,\\text{sell}} - P_{t,\\text{buy}} * X_{t,\\text{buy}} \\right) - \\text{cost} * \\sum_{t \\in T} z_t$\n",
        "\n"
      ],
      "metadata": {
        "id": "YlVxez3UrYtT"
      }
    },
    {
      "cell_type": "code",
      "source": [
        "# Maximierung des Profits\n",
        "scip.setObjective(\n",
        "    sum(P['sell',t]*X['sell',t] for t in T) - sum(P['buy',t]*X['buy',t] for t in T) - cost*sum(z[t] for t in T),\n",
        "    sense=\"maximize\")\n"
      ],
      "metadata": {
        "colab": {
          "base_uri": "https://localhost:8080/",
          "height": 228
        },
        "id": "NvRpZvlVsXAg",
        "outputId": "66fec20e-030e-45a7-a7c6-55c205981751"
      },
      "execution_count": 54,
      "outputs": [
        {
          "output_type": "error",
          "ename": "ValueError",
          "evalue": "SCIP does not support nonlinear objective functions. Consider using set_nonlinear_objective in the pyscipopt.recipe.nonlinear",
          "traceback": [
            "\u001b[0;31m---------------------------------------------------------------------------\u001b[0m",
            "\u001b[0;31mValueError\u001b[0m                                Traceback (most recent call last)",
            "\u001b[0;32m<ipython-input-54-7f16978816f2>\u001b[0m in \u001b[0;36m<cell line: 0>\u001b[0;34m()\u001b[0m\n\u001b[1;32m      1\u001b[0m \u001b[0;31m# Maximierung des Profits\u001b[0m\u001b[0;34m\u001b[0m\u001b[0;34m\u001b[0m\u001b[0m\n\u001b[0;32m----> 2\u001b[0;31m scip.setObjective(\n\u001b[0m\u001b[1;32m      3\u001b[0m     \u001b[0msum\u001b[0m\u001b[0;34m(\u001b[0m\u001b[0mP\u001b[0m\u001b[0;34m[\u001b[0m\u001b[0;34m'sell'\u001b[0m\u001b[0;34m,\u001b[0m\u001b[0mt\u001b[0m\u001b[0;34m]\u001b[0m\u001b[0;34m*\u001b[0m\u001b[0mX\u001b[0m\u001b[0;34m[\u001b[0m\u001b[0;34m'sell'\u001b[0m\u001b[0;34m,\u001b[0m\u001b[0mt\u001b[0m\u001b[0;34m]\u001b[0m \u001b[0;32mfor\u001b[0m \u001b[0mt\u001b[0m \u001b[0;32min\u001b[0m \u001b[0mT\u001b[0m\u001b[0;34m)\u001b[0m \u001b[0;34m-\u001b[0m \u001b[0msum\u001b[0m\u001b[0;34m(\u001b[0m\u001b[0mP\u001b[0m\u001b[0;34m[\u001b[0m\u001b[0;34m'buy'\u001b[0m\u001b[0;34m,\u001b[0m\u001b[0mt\u001b[0m\u001b[0;34m]\u001b[0m\u001b[0;34m*\u001b[0m\u001b[0mX\u001b[0m\u001b[0;34m[\u001b[0m\u001b[0;34m'buy'\u001b[0m\u001b[0;34m,\u001b[0m\u001b[0mt\u001b[0m\u001b[0;34m]\u001b[0m \u001b[0;32mfor\u001b[0m \u001b[0mt\u001b[0m \u001b[0;32min\u001b[0m \u001b[0mT\u001b[0m\u001b[0;34m)\u001b[0m \u001b[0;34m-\u001b[0m \u001b[0mcost\u001b[0m\u001b[0;34m*\u001b[0m\u001b[0msum\u001b[0m\u001b[0;34m(\u001b[0m\u001b[0mz\u001b[0m\u001b[0;34m[\u001b[0m\u001b[0mt\u001b[0m\u001b[0;34m]\u001b[0m \u001b[0;32mfor\u001b[0m \u001b[0mt\u001b[0m \u001b[0;32min\u001b[0m \u001b[0mT\u001b[0m\u001b[0;34m)\u001b[0m\u001b[0;34m,\u001b[0m\u001b[0;34m\u001b[0m\u001b[0;34m\u001b[0m\u001b[0m\n\u001b[1;32m      4\u001b[0m     sense=\"maximize\")\n",
            "\u001b[0;32msrc/pyscipopt/scip.pxi\u001b[0m in \u001b[0;36mpyscipopt.scip.Model.setObjective\u001b[0;34m()\u001b[0m\n",
            "\u001b[0;31mValueError\u001b[0m: SCIP does not support nonlinear objective functions. Consider using set_nonlinear_objective in the pyscipopt.recipe.nonlinear"
          ]
        }
      ]
    },
    {
      "cell_type": "markdown",
      "metadata": {
        "id": "d1f9cf18"
      },
      "source": [
        "## Entscheidungsvariablen"
      ]
    },
    {
      "cell_type": "code",
      "source": [
        "# Beschaffungsmengen der jeweiligen Vorprodukte (Flasche und Vitaminwasser)\n",
        "Z={}\n",
        "for l in L:\n",
        "  for i in I:\n",
        "    for p in VP:\n",
        "      for t in T:\n",
        "        Z[l,i,p,t] = scip.addVar(vtype=\"C\", name=f\"{l},{i},{p},{t}\")"
      ],
      "metadata": {
        "id": "lbpazTPleD6g"
      },
      "execution_count": null,
      "outputs": []
    },
    {
      "cell_type": "code",
      "source": [
        "print('Anzahl Entscheidungsvariablen =', len(scip.getVars()))"
      ],
      "metadata": {
        "colab": {
          "base_uri": "https://localhost:8080/"
        },
        "id": "hN6GY-5YBA9Y",
        "outputId": "53eb55b2-4792-4a38-d627-33f68ff41df0"
      },
      "execution_count": null,
      "outputs": [
        {
          "output_type": "stream",
          "name": "stdout",
          "text": [
            "Anzahl Entscheidungsvariablen = 360\n"
          ]
        }
      ]
    },
    {
      "cell_type": "markdown",
      "metadata": {
        "id": "b99b4ca0"
      },
      "source": [
        "## Parameter"
      ]
    },
    {
      "cell_type": "code",
      "source": [
        "# Produktionskosten\n",
        "pc = produktion_kosten.set_index([\"Werk\",\"Produkt\"]).to_dict(\"dict\")[\"Produktionskosten\"] # Kosten reguläre Produktion in €/ME\n",
        "oc = produktion_kosten.set_index([\"Werk\"]).to_dict(\"dict\")[\"Kosten_pro_Zusatzkapa\"] # Kosten Zusatzkapazitäten in €/Kapazitätseinheit"
      ],
      "metadata": {
        "id": "LnaXtWEACWoU"
      },
      "execution_count": null,
      "outputs": []
    },
    {
      "cell_type": "markdown",
      "metadata": {
        "id": "c9eede10"
      },
      "source": [
        "## Zielfunktion"
      ]
    },
    {
      "cell_type": "markdown",
      "source": [
        "### Zielfunktion\n",
        "Min $K = \\sum_{l,i,p \\in VP,t} bc_{lp} * Z_{lipt} + \\sum_{l,i,p \\in VP,t} tbc_{lip} * Z_{lipt} + \\sum_{i,p \\in FP,t} pc_{ip} * X_{ipt} + \\sum_{i,p,t} lc_{p} * B_{ipt} + \\sum_{i,t} oc^+_{it} * O_{it} + \\sum_{i,j,p,t} dtc_{ijp} * Y_{ijpt}$"
      ],
      "metadata": {
        "id": "lT4f5UwcyzKS"
      }
    },
    {
      "cell_type": "code",
      "source": [],
      "metadata": {
        "id": "R6xVpkbNb3ax"
      },
      "execution_count": null,
      "outputs": []
    },
    {
      "cell_type": "code",
      "source": [
        "bc.get(('ErpoPlast', 'Vitaminwasser'),0)"
      ],
      "metadata": {
        "colab": {
          "base_uri": "https://localhost:8080/"
        },
        "id": "LI8rkIO3zCEP",
        "outputId": "0d1934d8-c674-4ce5-b8a0-d36741267954"
      },
      "execution_count": null,
      "outputs": [
        {
          "output_type": "execute_result",
          "data": {
            "text/plain": [
              "0"
            ]
          },
          "metadata": {},
          "execution_count": 76
        }
      ]
    },
    {
      "cell_type": "code",
      "execution_count": null,
      "metadata": {
        "id": "954d02bf"
      },
      "outputs": [],
      "source": [
        "# Minimierung der gesamten Kosten\n",
        "scip.setObjective(\n",
        "    sum(bc.get((l,p),0) * Z[l,i,p,t] for l in L for i in I for p in VP for t in T) + # Kosten Beschaffung\n",
        "    sum(btc.get((l,i,p),0) * Z[l,i,p,t] for l in L for i in I for p in VP for t in T) + # Transportkosten Beschaffung\n",
        "    sum(pc[i,p]*X[i,p,t] for i in I for p in FP for t in T) + # Kosten der Produktion mit regulärer Kapazität\n",
        "    sum(oc[i]*O[i,t] for i in I for t in T) + # Kosten der Produktion mit zusätzlicher Kapazität\n",
        "    sum(lc[p]*B[i,p,t] for i in I for p in P for t in T) + # Kosten der Lagerung\n",
        "    sum(dtc[i,j,p]*Y[i,j,p,t] for i in I for j in J for p in FP for t in T), # Transportkosten Distribution\n",
        "    sense=\"minimize\"\n",
        "    )"
      ]
    },
    {
      "cell_type": "markdown",
      "metadata": {
        "id": "a8534816"
      },
      "source": [
        "## Nebenbedingungen"
      ]
    },
    {
      "cell_type": "markdown",
      "source": [
        "**(1) Lieferantenkapazitäten**\n",
        "\n",
        "$\\sum_{i} Z_{lipt} \\le bcap_{lpt}$\n",
        "\n",
        "$∀ l,p \\in VP, t$"
      ],
      "metadata": {
        "id": "El09g3Zwh1pt"
      }
    },
    {
      "cell_type": "code",
      "source": [
        "for l in L:\n",
        "  for p in VP:\n",
        "    for t in T:\n",
        "      scip.addCons(quicksum(Z[l,i,p,t] for i in I)<= bcap.get((l,p,t),0))"
      ],
      "metadata": {
        "id": "0q4H4wEGh3zw"
      },
      "execution_count": null,
      "outputs": []
    },
    {
      "cell_type": "markdown",
      "metadata": {
        "id": "9a459618"
      },
      "source": [
        "## Berechnung Lösung"
      ]
    },
    {
      "cell_type": "code",
      "source": [
        "scip.optimize()\n",
        "print(scip.getStatus())"
      ],
      "metadata": {
        "colab": {
          "base_uri": "https://localhost:8080/"
        },
        "id": "tf9LRvMDCprP",
        "outputId": "d273d84f-c5d0-444c-f00c-0230dd251c18"
      },
      "execution_count": null,
      "outputs": [
        {
          "output_type": "stream",
          "name": "stdout",
          "text": [
            "optimal\n"
          ]
        }
      ]
    }
  ]
}