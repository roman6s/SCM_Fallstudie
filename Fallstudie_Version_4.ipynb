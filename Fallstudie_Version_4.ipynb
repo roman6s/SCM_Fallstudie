{
  "nbformat": 4,
  "nbformat_minor": 0,
  "metadata": {
    "colab": {
      "provenance": [],
      "include_colab_link": true
    },
    "kernelspec": {
      "name": "python3",
      "display_name": "Python 3"
    },
    "language_info": {
      "name": "python"
    }
  },
  "cells": [
    {
      "cell_type": "markdown",
      "metadata": {
        "id": "view-in-github",
        "colab_type": "text"
      },
      "source": [
        "<a href=\"https://colab.research.google.com/github/roman6s/SCM_Fallstudie/blob/main/Fallstudie_Version_4.ipynb\" target=\"_parent\"><img src=\"https://colab.research.google.com/assets/colab-badge.svg\" alt=\"Open In Colab\"/></a>"
      ]
    },
    {
      "cell_type": "markdown",
      "metadata": {
        "id": "b2fc884d"
      },
      "source": [
        "# Fallstudie BESS"
      ]
    },
    {
      "cell_type": "code",
      "execution_count": 29,
      "metadata": {
        "id": "cdb29647",
        "colab": {
          "base_uri": "https://localhost:8080/"
        },
        "outputId": "0e466316-5484-49f2-ea12-6691603ecdd5"
      },
      "outputs": [
        {
          "output_type": "stream",
          "name": "stdout",
          "text": [
            "fatal: destination path 'WS24_Supply_Chain_Optimierung' already exists and is not an empty directory.\n"
          ]
        }
      ],
      "source": [
        "! git clone https://github.com/AlexKressner/WS24_Supply_Chain_Optimierung"
      ]
    },
    {
      "cell_type": "code",
      "execution_count": 30,
      "metadata": {
        "id": "d8c0c7cc"
      },
      "outputs": [],
      "source": [
        "! pip install -q pyscipopt"
      ]
    },
    {
      "cell_type": "code",
      "source": [
        "import pandas as pd\n",
        "from pyscipopt import Model, quicksum"
      ],
      "metadata": {
        "id": "7MzXHG4B86Qx"
      },
      "execution_count": 31,
      "outputs": []
    },
    {
      "cell_type": "markdown",
      "source": [
        "## Optimierungsmodell"
      ],
      "metadata": {
        "id": "Q8f5UhN-A8UV"
      }
    },
    {
      "cell_type": "code",
      "source": [
        "scip = Model()"
      ],
      "metadata": {
        "id": "gIH-zc22A9tA"
      },
      "execution_count": 32,
      "outputs": []
    },
    {
      "cell_type": "markdown",
      "source": [
        "## Daten laden"
      ],
      "metadata": {
        "id": "3Ci5xdy04596"
      }
    },
    {
      "cell_type": "code",
      "source": [
        "folder = \"WS24_Supply_Chain_Optimierung/Daten/Fallstudie\""
      ],
      "metadata": {
        "id": "umWfTGv849zx"
      },
      "execution_count": 33,
      "outputs": []
    },
    {
      "cell_type": "code",
      "source": [
        "# Preisprogonose\n",
        "preisprognose = pd.read_excel(f\"{folder}/Preisprognosen.xlsx\")\n"
      ],
      "metadata": {
        "id": "uF0YYNBI8ILm"
      },
      "execution_count": 34,
      "outputs": []
    },
    {
      "cell_type": "markdown",
      "source": [
        "##Indexmenge"
      ],
      "metadata": {
        "id": "wQf8CLLsWi6Q"
      }
    },
    {
      "cell_type": "markdown",
      "source": [
        "$T = \\{1, 2, \\ldots, 24\\} \\quad \\text{(Menge der Stunden des Folgetages)}$"
      ],
      "metadata": {
        "id": "jmSBllaVj1RO"
      }
    },
    {
      "cell_type": "code",
      "source": [
        "T = range (1,25)"
      ],
      "metadata": {
        "id": "2_9xHGvjWlF2"
      },
      "execution_count": 35,
      "outputs": []
    },
    {
      "cell_type": "markdown",
      "source": [
        "##Parameter"
      ],
      "metadata": {
        "id": "Mf-mDI1EWnl9"
      }
    },
    {
      "cell_type": "code",
      "source": [
        "cap       = 40.0            # Nominelle Kapazität in [MWh]"
      ],
      "metadata": {
        "id": "CB3xqIlQWpM3"
      },
      "execution_count": 36,
      "outputs": []
    },
    {
      "cell_type": "code",
      "source": [
        "DoD       = 0.80            # Depth of Discharge"
      ],
      "metadata": {
        "id": "zlVwmL_8WrTv"
      },
      "execution_count": 37,
      "outputs": []
    },
    {
      "cell_type": "code",
      "source": [
        "SOC_min   = cap*(1 - DoD)   # Minimaler Ladezustand in [MWh]"
      ],
      "metadata": {
        "id": "eSvLwLb7Ws7p"
      },
      "execution_count": 38,
      "outputs": []
    },
    {
      "cell_type": "code",
      "source": [
        "SOC_max   = cap             # Maximaler Ladezustand in [MWh]"
      ],
      "metadata": {
        "id": "Fnp26KnBWuog"
      },
      "execution_count": 39,
      "outputs": []
    },
    {
      "cell_type": "code",
      "source": [
        "c_rate    = 0.5             # C-Rate"
      ],
      "metadata": {
        "id": "8ZDAs-WMWw7G"
      },
      "execution_count": 40,
      "outputs": []
    },
    {
      "cell_type": "code",
      "source": [
        "eta_rte = 0.975             # Round-trip Efficiency (einfache Richtung)"
      ],
      "metadata": {
        "id": "7iBT0TMBWw3t"
      },
      "execution_count": 41,
      "outputs": []
    },
    {
      "cell_type": "code",
      "source": [
        "eta_wr    = 0.985           # Wirkungsgrad Wechselrichter"
      ],
      "metadata": {
        "id": "iolO1qpWWwsR"
      },
      "execution_count": 42,
      "outputs": []
    },
    {
      "cell_type": "code",
      "source": [
        "cyclecost = 1500.0          # Fixkosten pro Zyklusdurchlauf"
      ],
      "metadata": {
        "id": "q4u8LR9sWz7k"
      },
      "execution_count": 43,
      "outputs": []
    },
    {
      "cell_type": "code",
      "source": [
        "maxCycles = 2.0             # Maximal durchführbare Zyklen"
      ],
      "metadata": {
        "id": "e_ROGkT1W2ue"
      },
      "execution_count": 44,
      "outputs": []
    },
    {
      "cell_type": "code",
      "source": [
        "p_Markt = preisprognose.groupby(\"Stunde\")[\"Strompreis\"].mean().tolist()    # Marktpreiserwartung zur Stunde t"
      ],
      "metadata": {
        "id": "fV2lTNh8W4Vr"
      },
      "execution_count": 45,
      "outputs": []
    },
    {
      "cell_type": "code",
      "source": [
        "# Lade- und Entladeverluste trennen\n",
        "# RTE für jede Richtung:\n",
        "eta_charge    = eta_rte * eta_wr  # Lade-Verlust\n",
        "eta_discharge = eta_rte * eta_wr  # Entlade-Verlust"
      ],
      "metadata": {
        "id": "QF4cShmLW8yf"
      },
      "execution_count": 46,
      "outputs": []
    },
    {
      "cell_type": "code",
      "source": [
        "# Zählvariable für verbrauchte Zyklen\n",
        "Z = scip.addVar(\n",
        "      vtype=\"CONTINUOUS\",\n",
        "      lb=0,\n",
        "      ub=maxCycles,\n",
        "      name=\"cycles_used\"\n",
        "    )"
      ],
      "metadata": {
        "id": "F1i7RnpDXWNR"
      },
      "execution_count": 47,
      "outputs": []
    },
    {
      "cell_type": "markdown",
      "source": [
        "##Entscheidungsvariablen"
      ],
      "metadata": {
        "id": "cnaoP4GjW_j1"
      }
    },
    {
      "cell_type": "markdown",
      "source": [
        "$\\text{SOC}_t \\in [8, 40] \\quad [\\text{MWh}], \\text{ Ladezustand der Batterie am Ende von Stunde } t$\n"
      ],
      "metadata": {
        "id": "0AUd2-Rtm0cH"
      }
    },
    {
      "cell_type": "code",
      "source": [
        "# State of Charge je Stunde\n",
        "SOC = {t: scip.addVar(\n",
        "             vtype=\"CONTINUOUS\",\n",
        "             lb=SOC_min,\n",
        "             ub=SOC_max,\n",
        "             name=f\"SOC_{t}\"\n",
        "          )\n",
        "       for t in T}"
      ],
      "metadata": {
        "id": "A3AZ-JgkXA5O"
      },
      "execution_count": 48,
      "outputs": []
    },
    {
      "cell_type": "markdown",
      "source": [
        "$0 \\leq \\text{charge}_t \\leq 20 \\quad [\\text{MWh}], \\text{ Ladeleistung in Stunde } t.$\n"
      ],
      "metadata": {
        "id": "e5wypNgKmFOi"
      }
    },
    {
      "cell_type": "code",
      "source": [
        "# Ladestrom je Stunde (jeweils in MWh, nicht negativ)\n",
        "charge = {t: scip.addVar(\n",
        "               vtype=\"CONTINUOUS\",\n",
        "               lb=0,\n",
        "               ub=c_rate * cap,\n",
        "               name=f\"charge_{t}\"\n",
        "            )\n",
        "          for t in T}"
      ],
      "metadata": {
        "id": "Efy-vMNvXREq"
      },
      "execution_count": 49,
      "outputs": []
    },
    {
      "cell_type": "markdown",
      "source": [
        "$0 \\leq \\text{discharge}_t \\leq 20 \\quad [\\text{MWh}], \\text{ Entladeleistung in Stunde  } t.$\n"
      ],
      "metadata": {
        "id": "Av1Qp6hAmifN"
      }
    },
    {
      "cell_type": "code",
      "source": [
        "# Entladestrom je Stunde (jeweils in MWh, nicht negativ)\n",
        "discharge = {t: scip.addVar(\n",
        "                  vtype=\"CONTINUOUS\",\n",
        "                  lb=0,\n",
        "                  ub=c_rate * cap,\n",
        "                  name=f\"discharge_{t}\"\n",
        "               )\n",
        "             for t in T}"
      ],
      "metadata": {
        "id": "eEFrhKyhXTKh"
      },
      "execution_count": 50,
      "outputs": []
    },
    {
      "cell_type": "markdown",
      "source": [
        "##Nebenbedingungen"
      ],
      "metadata": {
        "id": "XwriQQR0XZMt"
      }
    },
    {
      "cell_type": "markdown",
      "source": [
        "$\\text{SOC}_1 = 0.5 \\cdot \\text{cap}, \\quad \\text{SOC}_{24} = 0.5 \\cdot \\text{cap}$\n"
      ],
      "metadata": {
        "id": "r3epg0scnieE"
      }
    },
    {
      "cell_type": "code",
      "source": [
        "# (1) Anfangs- und End-SOC = 50% Kapazität\n",
        "scip.addCons(SOC[1] == 0.5 * cap)\n",
        "scip.addCons(SOC[24] == 0.5 * cap)\n",
        "\n",
        "# Verhindert Entladung bei t=24\n",
        "scip.addCons(discharge[24] == 0)"
      ],
      "metadata": {
        "colab": {
          "base_uri": "https://localhost:8080/"
        },
        "id": "TATwy_wjXbLy",
        "outputId": "6452d801-b41b-444d-a9c2-fd2287dd8c55"
      },
      "execution_count": 51,
      "outputs": [
        {
          "output_type": "execute_result",
          "data": {
            "text/plain": [
              "c3"
            ]
          },
          "metadata": {},
          "execution_count": 51
        }
      ]
    },
    {
      "cell_type": "markdown",
      "source": [
        "$\\text{SOC}_t = \\text{SOC}_{t-1} + \\eta_{\\text{charge}} \\cdot \\text{charge}_{t-1} - \\frac{1}{\\eta_{\\text{discharge}}} \\cdot \\text{discharge}_{t-1}$\n"
      ],
      "metadata": {
        "id": "XO3Isr1pnykR"
      }
    },
    {
      "cell_type": "code",
      "source": [
        "# (2) Ladezustandsdynamik\n",
        "for t in T:\n",
        "    if t == 1:\n",
        "        continue\n",
        "    scip.addCons(\n",
        "        SOC[t]\n",
        "        == SOC[t-1]\n",
        "           + eta_charge     * charge[t-1]\n",
        "           - (1/eta_discharge)* discharge[t-1]\n",
        "    )"
      ],
      "metadata": {
        "id": "3KVPQv6CXc6N"
      },
      "execution_count": 52,
      "outputs": []
    },
    {
      "cell_type": "markdown",
      "source": [
        "$\n",
        "\\frac{\\sum_{t \\in T} (\\text{charge}_t + \\text{discharge}_t)}{2 \\cdot \\text{cap} \\cdot \\text{DoD}} \\leq Z \\leq \\text{maxCycles}\n",
        "$\n",
        "\n",
        "\n",
        "\n"
      ],
      "metadata": {
        "id": "LgzsbwJ0n-de"
      }
    },
    {
      "cell_type": "code",
      "source": [
        "# (3) Zyklenbegrenzung\n",
        "#     Ein Vollzyklus = 2*(cap * DoD). Also berechnen wir den gesamten \"Throughput\"\n",
        "#     und setzen Z >= Throughput / [2 * (cap*DoD)].\n",
        "throughput = quicksum(charge[t] + discharge[t] for t in T)\n",
        "scip.addCons(\n",
        "    Z >= throughput / (2.0 * cap * DoD)\n",
        ")\n",
        "# Z soll <= 2 sein\n",
        "scip.addCons(\n",
        "    Z <= maxCycles\n",
        ")"
      ],
      "metadata": {
        "colab": {
          "base_uri": "https://localhost:8080/"
        },
        "id": "f21jgLV_Xe5x",
        "outputId": "f088be00-d963-42f1-f8a8-3ce9666bdb6d"
      },
      "execution_count": 53,
      "outputs": [
        {
          "output_type": "execute_result",
          "data": {
            "text/plain": [
              "c28"
            ]
          },
          "metadata": {},
          "execution_count": 53
        }
      ]
    },
    {
      "cell_type": "markdown",
      "source": [
        "##Zielfunktion"
      ],
      "metadata": {
        "id": "O-VVCXO6X0J-"
      }
    },
    {
      "cell_type": "markdown",
      "source": [
        "$Max \\quad \\underbrace{\\sum_{t \\in T} \\left[ p_t \\cdot (\\text{discharge}_t) - p_t \\cdot (\\text{charge}_t) \\right]}_{\\text{Erlöse - Kosten für Strom}}\n",
        "-\n",
        "\\underbrace{\\text{cost} \\cdot Z}_{\\text{Zykluskosten}}\n",
        "$\n"
      ],
      "metadata": {
        "id": "r7uNCEgapIW_"
      }
    },
    {
      "cell_type": "code",
      "source": [
        "#   Erlöse - Kosten pro Zyklus\n",
        "scip.setObjective(quicksum(\n",
        "    p_Markt[t-1] * discharge[t] - p_Markt[t-1] * charge[t]\n",
        "    for t in T\n",
        ") - cyclecost * Z, sense=\"maximize\")"
      ],
      "metadata": {
        "id": "v3jh99MKX2W2"
      },
      "execution_count": 54,
      "outputs": []
    },
    {
      "cell_type": "markdown",
      "source": [
        "##Berechnung des Ergebnis"
      ],
      "metadata": {
        "id": "Xx6s5lxlYAmE"
      }
    },
    {
      "cell_type": "code",
      "source": [
        "# Modell lösen\n",
        "scip.optimize()"
      ],
      "metadata": {
        "id": "qia598_fX4Hl"
      },
      "execution_count": 55,
      "outputs": []
    },
    {
      "cell_type": "code",
      "source": [
        "# Ausgabe der Ergebnisse\n",
        "print(f\"Optimaler Zielfunktionswert: {scip.getObjVal():.2f} €\")\n",
        "\n",
        "print(\"\\nStundenweise Lösung:\")\n",
        "for t in T:\n",
        "    soc_val     = scip.getVal(SOC[t])\n",
        "    chg_val     = scip.getVal(charge[t])\n",
        "    dis_val     = scip.getVal(discharge[t])\n",
        "    print(f\"  t={t:2d}: \"\n",
        "          f\"SOC={soc_val:5.2f}  \"\n",
        "          f\"charge={chg_val:5.2f}  \"\n",
        "          f\"discharge={dis_val:5.2f}  \"\n",
        "          f\"Preis={p_Markt[t-1]:6.2f}\")\n",
        "\n",
        "print(f\"\\nEffektiv genutzte Zyklen: {scip.getVal(Z):.2f}\")"
      ],
      "metadata": {
        "colab": {
          "base_uri": "https://localhost:8080/"
        },
        "id": "ZqWtHEQEYBdg",
        "outputId": "b053c5e3-d54b-4c0c-e2ff-d377d6641f75"
      },
      "execution_count": 56,
      "outputs": [
        {
          "output_type": "stream",
          "name": "stdout",
          "text": [
            "Optimaler Zielfunktionswert: 1885.12 €\n",
            "\n",
            "Stundenweise Lösung:\n",
            "  t= 1: SOC=20.00  charge= 0.00  discharge= 0.00  Preis= 81.52\n",
            "  t= 2: SOC=20.00  charge= 0.00  discharge= 0.00  Preis= 72.24\n",
            "  t= 3: SOC=20.00  charge= 0.00  discharge= 0.00  Preis= 68.16\n",
            "  t= 4: SOC=20.00  charge= 0.00  discharge= 0.00  Preis= 66.64\n",
            "  t= 5: SOC=20.00  charge= 0.00  discharge= 0.00  Preis= 66.80\n",
            "  t= 6: SOC=20.00  charge= 0.00  discharge= 0.00  Preis= 71.04\n",
            "  t= 7: SOC=20.00  charge= 0.00  discharge= 0.00  Preis= 88.56\n",
            "  t= 8: SOC=20.00  charge= 0.00  discharge=11.52  Preis= 92.68\n",
            "  t= 9: SOC= 8.00  charge= 0.00  discharge= 0.00  Preis= 80.92\n",
            "  t=10: SOC= 8.00  charge= 0.00  discharge= 0.00  Preis= 61.08\n",
            "  t=11: SOC= 8.00  charge= 0.00  discharge= 0.00  Preis= 43.08\n",
            "  t=12: SOC= 8.00  charge= 0.00  discharge= 0.00  Preis= 30.88\n",
            "  t=13: SOC= 8.00  charge= 0.00  discharge= 0.00  Preis= 22.44\n",
            "  t=14: SOC= 8.00  charge=13.32  discharge= 0.00  Preis= 15.96\n",
            "  t=15: SOC=20.79  charge=20.00  discharge= 0.00  Preis= 12.52\n",
            "  t=16: SOC=40.00  charge= 0.00  discharge= 0.00  Preis= 18.44\n",
            "  t=17: SOC=40.00  charge= 0.00  discharge= 0.00  Preis= 34.88\n",
            "  t=18: SOC=40.00  charge= 0.00  discharge= 0.00  Preis= 56.56\n",
            "  t=19: SOC=40.00  charge= 0.00  discharge= 0.00  Preis= 78.44\n",
            "  t=20: SOC=40.00  charge= 0.00  discharge= 0.00  Preis=105.60\n",
            "  t=21: SOC=40.00  charge= 0.00  discharge=19.21  Preis=144.80\n",
            "  t=22: SOC=20.00  charge= 0.00  discharge= 0.00  Preis=125.12\n",
            "  t=23: SOC=20.00  charge= 0.00  discharge= 0.00  Preis=101.36\n",
            "  t=24: SOC=20.00  charge= 0.00  discharge= 0.00  Preis= 85.28\n",
            "\n",
            "Effektiv genutzte Zyklen: 1.00\n"
          ]
        }
      ]
    }
  ]
}